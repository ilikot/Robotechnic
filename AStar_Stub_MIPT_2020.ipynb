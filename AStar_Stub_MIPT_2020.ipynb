{
  "nbformat": 4,
  "nbformat_minor": 0,
  "metadata": {
    "kernelspec": {
      "display_name": "Python 3",
      "language": "python",
      "name": "python3"
    },
    "language_info": {
      "codemirror_mode": {
        "name": "ipython",
        "version": 3
      },
      "file_extension": ".py",
      "mimetype": "text/x-python",
      "name": "python",
      "nbconvert_exporter": "python",
      "pygments_lexer": "ipython3",
      "version": "3.7.3"
    },
    "colab": {
      "name": "AStar-Stub-MIPT-2020.ipynb",
      "provenance": [],
      "include_colab_link": true
    }
  },
  "cells": [
    {
      "cell_type": "markdown",
      "metadata": {
        "id": "view-in-github",
        "colab_type": "text"
      },
      "source": [
        "<a href=\"https://colab.research.google.com/github/ilikot/Robotechnic/blob/master/AStar_Stub_MIPT_2020.ipynb\" target=\"_parent\"><img src=\"https://colab.research.google.com/assets/colab-badge.svg\" alt=\"Open In Colab\"/></a>"
      ]
    },
    {
      "cell_type": "code",
      "metadata": {
        "id": "TKKN6iHAPb8I",
        "colab_type": "code",
        "colab": {}
      },
      "source": [
        "import math"
      ],
      "execution_count": 0,
      "outputs": []
    },
    {
      "cell_type": "code",
      "metadata": {
        "id": "B-I8PfqFPb8N",
        "colab_type": "code",
        "colab": {}
      },
      "source": [
        "\"\"\"\n",
        "SquareGrid class represents agent's environment\n",
        "0 - cell is traversable\n",
        "1 - cell is blocked\n",
        "\"\"\"\n",
        "class SquareGrid:\n",
        "    #set width, height and fill the grid with zeroes (fully traversable grid)\n",
        "    def __init__(self, width, height):\n",
        "        self.width = width\n",
        "        self.height = height\n",
        "        self.cells = [[0 for _ in range(width)] for _ in range(height)]\n",
        "    \n",
        "    #fill the grid given the string representation of the input_map\n",
        "    #i.e. write \"1\" to the matrix element that corresponds the obstacle marker \"#\"\n",
        "    #everything else except \"#\" is considered not to be an obstacle \n",
        "    def get_map(self, input_map):\n",
        "        for i in range(self.height):\n",
        "            for j in range(self.width):\n",
        "                if input_map[i * self.width + j] == '#':\n",
        "                    self.cells[i][j] = 1\n",
        "    \n",
        "    #out of bounds check\n",
        "    def in_bounds(self, i, j):\n",
        "        return 0 <= j < self.width and 0 <= i < self.height\n",
        "    \n",
        "    #blocked cell check\n",
        "    def traversable(self, i, j):\n",
        "        return not self.cells[i][j]\n",
        "    \n",
        "    #printing the grid\n",
        "    def print(self):\n",
        "        for c in self.cells:\n",
        "            print(*c)\n",
        "    \n",
        "    \n",
        "    def neighbors(self, i, j, diagonal=False, cutcorners=False, squeeze=False):\n",
        "        \"\"\"\n",
        "        function, that returns neighbor nodes to the current node (i, j) according to the following parameters:\n",
        "        diagonal: True, if diagonal moves are allowed\n",
        "        cutcorners: True, if the agent is allowed to cut corners (only valid id diagoanl is True)\n",
        "        squeeze: True, if the is also allowed to squeeze between obstacles (only valid when cutcornres is True)\n",
        "        \"\"\"\n",
        "        neighbors = []\n",
        "        #very primitive code (hard-code). works for cardinal moves only!\n",
        "        if self.in_bounds(i, j - 1) and self.traversable(i, j - 1):\n",
        "            neighbors.append((i, j - 1)) #move left\n",
        "        if self.in_bounds(i - 1, j) and self.traversable(i - 1, j):\n",
        "            neighbors.append((i - 1, j)) #move up\n",
        "            \n",
        "        if self.in_bounds(i, j + 1) and self.traversable(i, j + 1):\n",
        "            neighbors.append((i, j + 1)) #move right\n",
        "            \n",
        "        if self.in_bounds(i + 1, j) and self.traversable(i + 1, j):\n",
        "            neighbors.append((i + 1, j)) #move down\n",
        "        \n",
        "        return neighbors\n",
        "    \n",
        "        #!!!TODO!!!\n",
        "        #Rewrite the code to handle all the parameters (diagonal, curcorners, squeeze).\n",
        "        #Get read of the hard-code hook, i.e. there should be a loop over all possible neighbors (instead of numerous ifs)\n",
        "        #and every neighbor-candidate should be checked inside this loop according to the given options,\n",
        "        #if the checks are passed - the candidate should be appended to neighbors set.\n",
        "        \n"
      ],
      "execution_count": 0,
      "outputs": []
    },
    {
      "cell_type": "code",
      "metadata": {
        "scrolled": true,
        "id": "qGUskao2Pb8S",
        "colab_type": "code",
        "colab": {}
      },
      "source": [
        "#That's how we represent the map and convert it to SquareGrid object\n",
        "test_map = '''\n",
        ". . . . . . . . . . . . . b . . . . . . . # # . . . . . . .  \n",
        ". . . . . . . . . . . . . c . . . . . . . # # . . . . . . . \n",
        ". . . . . . . . . . . . . c . . . . . . . # # . . . . . . . \n",
        ". . . # # . . . . . . . . c . . . . . . . # # . . . . . . . \n",
        ". . . # # . . . . . . . . # # . . . . . . # # . . . . . . . \n",
        ". . . # # . . . . . . . . # # . . . . . . # # # # # . . . . \n",
        ". . . # # . . . . . . . . # # . . . . . . # # # # # . . . . \n",
        ". . . # # . . . . . . . . # # . . . . . . . . . . . . . . . \n",
        ". . . # # . . . . . . . . # # . . . . . . . . . . . . . . . \n",
        ". . . # # . . . . . . . . # # . . . . . . . . . . . . . . . \n",
        ". . . # # . . . . . . . . # # . . . . . . . . . . . . . . . \n",
        ". . . # # . . . . . . . . # # . . . . . . . . . . . . . . . \n",
        ". . . . . . . . . . . . . # # . . . . . . . . . . . . . . . \n",
        ". . . . . . . . . . . . . # # . . . . . . . . . . . . . . .\n",
        ". . . . . . . . . . . . . # # . . . . . . . . . . . . . . .\n",
        "\n",
        "'''\n",
        "\n",
        "#define the SquareGrid object and fill it with a given map\n",
        "test_grid = SquareGrid(30, 15) #make sure the dimensions match the drawn map\n",
        "test_grid.get_map(test_map.translate({ ord(c): None for c in ' \\n\\t\\r' })) #remove all whitespaces, tabs etc. \n",
        "\n",
        "#validate that map is converted correctly to the SquareGrid object\n",
        "test_grid.print()"
      ],
      "execution_count": 0,
      "outputs": []
    },
    {
      "cell_type": "code",
      "metadata": {
        "id": "NKfgE8ZUPb8Y",
        "colab_type": "code",
        "colab": {}
      },
      "source": [
        "class Node:\n",
        "    \"\"\"\n",
        "    Node class represents a search node\n",
        "    i, j: coordinates of corresponding grid element\n",
        "    g: g-value of the node\n",
        "    h: h-value of the node\n",
        "    F: f-value of the node\n",
        "    parent: pointer to the parent-node \n",
        "    \"\"\"\n",
        "    def __init__(self, i, j, g=math.inf, h=math.inf, F=-1, parent=None):\n",
        "        self.i = i\n",
        "        self.j = j\n",
        "        self.g = g\n",
        "        if F==-1:\n",
        "            self.F = self.g + h\n",
        "        else:\n",
        "            self.F = F        \n",
        "        self.parent = parent"
      ],
      "execution_count": 0,
      "outputs": []
    },
    {
      "cell_type": "markdown",
      "metadata": {
        "id": "a5sdGFBvPb8c",
        "colab_type": "text"
      },
      "source": [
        "#### OPEN list\n",
        "\n",
        "OPEN is a fringe of the search-space, i.e. it consists of the nodes that have already been generated but not yet expanded.\n",
        "\n",
        "We should be able to:\n",
        "i) insert newly generated node to OPEN in case no node with the same (i, j) already resides in OPEN;\n",
        "ii) update node in case shorter path to the corresponding grid cell is found (update alters g-val, f-val and backpointer, but, obviously, not i, j and h-val);\n",
        "iii) find the best node, i.e. the node with the lowest f-value.\n",
        "\n",
        "Let's start withis a very primitive, straight-forward, non-efficent way to implement OPEN list."
      ]
    },
    {
      "cell_type": "code",
      "metadata": {
        "id": "Q9UOucIEPb8d",
        "colab_type": "code",
        "colab": {}
      },
      "source": [
        "class OpenListBasic:\n",
        "    def __init__(self):\n",
        "        self.elements = []\n",
        "    \n",
        "    #empty should infrom whether the OPEN is exhausted or not (in case it is - the search main loop should be interrupted)\n",
        "    def empty(self):\n",
        "        if len(self.elements) != 0:\n",
        "            return False\n",
        "        return True\n",
        "    \n",
        "    #get is the method that finds the best node (the one with the lowest  f-value),removes it from OPEN and returns it\n",
        "    def get(self):\n",
        "        best_F = math.inf\n",
        "        best_coord = 0\n",
        "        for i in range(len(self.elements)):\n",
        "            if self.elements[i].F < best_F:\n",
        "                best_coord = i\n",
        "                best_F = self.elements[i].F\n",
        "                \n",
        "        best = self.elements.pop(best_coord)\n",
        "        return best\n",
        "    \n",
        "    #put is the method that puts (e.g. inserts or updates) the node to OPEN\n",
        "    #When implementing it do not forget to handle all the possible situations:\n",
        "    #- node already in OPEN but the new f-value is better;\n",
        "    #- node already in OPEN but the new f-value is worse;\n",
        "    #- node is not in OPEN.\n",
        "    def put(self, item):\n",
        "        for coord in range(len(self.elements)):\n",
        "            if self.elements[coord].i == item.i and self.elements[coord].j == item.j:\n",
        "                if self.elements[coord].F > item.F:\n",
        "                    self.elements[coord].F = item.F\n",
        "                    return\n",
        "                else:\n",
        "                    return\n",
        "                \n",
        "        \n",
        "        self.elements.append(item)\n",
        "        return"
      ],
      "execution_count": 0,
      "outputs": []
    },
    {
      "cell_type": "code",
      "metadata": {
        "id": "wVQSipwbPb8i",
        "colab_type": "code",
        "colab": {}
      },
      "source": [
        "#class OpenList:\n",
        "    #!!!TODO!!!\n",
        "    #Implement OPEN in a more efficent way compared to OpenListBasic.\n",
        "    \n",
        "    #A few directions to try:\n",
        "    \n",
        "    #1. Keeping the list sorted, so it takes O(1) to get the best element. Primitive way of \"keeping the list sorted\"\n",
        "    #is just explicitly sorting it in accordance with the f-value (i.e. key = f-value) after the new element is appended.\n",
        "    #It will result in O(n) + O(nlogn) = O(nlogn) performance, i.e. identifying whether a node already exists\n",
        "    #in the list is O(n) and sorting the list after appending new element is O(nlogn).\n",
        "    \n",
        "    #2. Checking the presence of the node in the list and inserting the node in a right place can be combined in\n",
        "    #one pass so it takes O(n) to put the node in OPEN (and it's still O(1) to get the best node).\n",
        "    \n",
        "    #3. One can actually implement OPEN not as a single list but as i sorted lists (i.e. vector of lists),\n",
        "    #thus checking for duplicates becomes faster. Although getting the best node is now trickier\n",
        "    #and the memory footprint is higher.\n",
        "    \n",
        "    #4. One can think on multi-index structure. To check whether the node is in OPEN a dictionary is a perferct option,\n",
        "    # as it takes O(1) to check for an element. A seperate structure, e.g. priority_queue (heap) might hold nodes,\n",
        "    # sorted by f-values, so OPEN.get is O(logN).\n",
        "    \n",
        "    "
      ],
      "execution_count": 0,
      "outputs": []
    },
    {
      "cell_type": "markdown",
      "metadata": {
        "id": "5knkZMivPb8n",
        "colab_type": "text"
      },
      "source": [
        "### Heuristics for grid maps\n",
        "\n",
        "#### Euclidean distance\n",
        "\n",
        "Straight line distance is the most intuitive thing to think of as it is the true shortest distance on a plane (thus 100% admissable). Calculation involves taking the square root (so it's a \"slow\" heuristic). Moreover this distance is not accurate for grid-worlds in many cases as the agent is limited to cardinal and diagonal moves only."
      ]
    },
    {
      "cell_type": "code",
      "metadata": {
        "id": "MbpKowriPb8n",
        "colab_type": "code",
        "colab": {}
      },
      "source": [
        "def euclidean_heuristic(a_i, a_j, b_i, b_j):\n",
        "    dx = abs(a_i - b_i)\n",
        "    dy = abs(a_j - b_j)\n",
        "    return math.sqrt(dx * dx + dy * dy)"
      ],
      "execution_count": 0,
      "outputs": []
    },
    {
      "cell_type": "markdown",
      "metadata": {
        "id": "10BbQL2tPb8t",
        "colab_type": "text"
      },
      "source": [
        "#### Manhattan distance\n",
        "\n",
        "More accurate heuristic when cardinal moves are allowed. It is not an admissable heuristic if diagonal moves are allowed as well."
      ]
    },
    {
      "cell_type": "code",
      "metadata": {
        "id": "SGGxXKojPb8t",
        "colab_type": "code",
        "colab": {}
      },
      "source": [
        "def manhattan_distance(a_i, a_j, b_i, b_j):\n",
        "    #!!!TODO!!!\n",
        "    #REWRITE THE CODE (it's Euclidean distance now)\n",
        "    dx = abs(a_i - b_i)\n",
        "    dy = abs(a_j - b_j)\n",
        "    return math.sqrt(dx * dx + dy * dy)"
      ],
      "execution_count": 0,
      "outputs": []
    },
    {
      "cell_type": "markdown",
      "metadata": {
        "id": "Th2wJ9CmPb8x",
        "colab_type": "text"
      },
      "source": [
        "#### Diagonal distance\n",
        "\n",
        "More accurate heuristic when diagonal moves are allowed."
      ]
    },
    {
      "cell_type": "code",
      "metadata": {
        "id": "PL0uynCnPb8z",
        "colab_type": "code",
        "colab": {}
      },
      "source": [
        "def diagonal_heuristic(a_i, a_j, b_i, b_j):\n",
        "    #!!!TODO!!!\n",
        "    #REWRITE THE CODE (it's Euclidean distance now)\n",
        "    dx = abs(a_i - b_i)\n",
        "    dy = abs(a_j - b_j)\n",
        "    return math.sqrt(dx * dx + dy * dy)"
      ],
      "execution_count": 0,
      "outputs": []
    },
    {
      "cell_type": "markdown",
      "metadata": {
        "id": "d_RBI62hPb84",
        "colab_type": "text"
      },
      "source": [
        "__Let's start with A*__"
      ]
    },
    {
      "cell_type": "code",
      "metadata": {
        "id": "wofty7z0Pb85",
        "colab_type": "code",
        "colab": {}
      },
      "source": [
        "def calculate_heuristic(a_i, a_j, goal_i, goal_j, heuristic_type='euclid'):\n",
        "    if heuristic_type == 'euclidean':\n",
        "        return euclidean_heuristic(a_i, a_j, goal_i, goal_j)\n",
        "    if heuristic_type == 'octile':\n",
        "        return diagonal_heuristic(a_i, a_j, goal_i, goal_j)\n",
        "    if heuristic_type == 'manhattan':\n",
        "        return manhattan_heuristic(a_i, a_j, goal_i, goal_j) \n",
        "    \n",
        "def calculate_cost(a_i, a_j, b_i, b_j):\n",
        "    return math.sqrt(abs(a_i - b_i) * abs(a_i - b_i) + abs(a_j - b_j) * abs(a_j - b_j))\n",
        "\n",
        "\n",
        "def search(grid, start_i, start_j, goal_i, goal_j,\n",
        "           heuristic_type='euclidean',\n",
        "           heuristic_weight=1,\n",
        "           diagonal=False, \n",
        "           cutcorners=False, \n",
        "           squeeze=False):\n",
        "    \n",
        "    OPEN = OpenListBasic()\n",
        "    start_node = Node(start_i, start_j, 0, \n",
        "                      heuristic_weight * calculate_heuristic(start_i, start_j, goal_i, goal_j, heuristic_type))\n",
        "    OPEN.put(start_node)\n",
        "    CLOSED = dict()\n",
        "    \n",
        "    while not OPEN.empty():\n",
        "        current = OPEN.get() #retrieve the best search node from OPEN\n",
        "        print(current.i, ' ', current.j, ' ', current.F) #print out the best current node (f-val should increase over the iterations)\n",
        "        CLOSED[current.i * grid.width + current.j] = current #put the node to CLOSE\n",
        "        \n",
        "        if current.i == goal_i and current.j == goal_j:\n",
        "            print(\"Path has been found!\")\n",
        "            return current, CLOSED\n",
        "        \n",
        "        for (i, j) in grid.neighbors(current.i, current.j):\n",
        "            if i * grid.width + j not in CLOSED:\n",
        "                g_cur = current.g + calculate_cost(current.i, current.j, i, j)\n",
        "                h_cur = calculate_heuristic(i, j, goal_i, goal_j, heuristic_type)\n",
        "                f_cur = g_cur + heuristic_weight * h_cur\n",
        "                new_node = Node(i, j, g_cur, h_cur, f_cur, current)\n",
        "                OPEN.put(new_node)\n",
        "                \n",
        "    print(\"Path NOT found\")\n",
        "    return current, CLOSED"
      ],
      "execution_count": 0,
      "outputs": []
    },
    {
      "cell_type": "code",
      "metadata": {
        "id": "f_Mrw0I1Pb8-",
        "colab_type": "code",
        "colab": {}
      },
      "source": [
        "input_map = '''\n",
        ". . . . . . . . . . . . . . . . . . . . . # # . . . . . . .  \n",
        ". . . . . . . . . . . . . c . . . . . . . # # . . . . . . . \n",
        ". . . . . . . . . . . . . c . . . . . . . # # . . . . . . . \n",
        ". . . # # . . . . . . . . c . . . . . . . # # . . . . . . . \n",
        ". . . # # . . . . . . . . # # . . . . . . # # . . . . . . . \n",
        ". . . # # . . . . . . . . # # . . . . . . # # # # # . . . . \n",
        ". . . # # . . . . . . . . # # . . . . . . # # # # # . . . . \n",
        ". . . # # . . . . . . . . # # . . . . . . . . . . . . . . . \n",
        ". . . # # . . . . . . . . # # . . . . . . . . . . . . . . . \n",
        ". . . # # . . . . . . . . # # . . . . . . . . . . . . . . . \n",
        ". . . # # . . . . . . . . # # . . . . . . . . . . . . . . . \n",
        ". . . # # . . . . . . . . # # . . . . . . . . . . . . . . . \n",
        ". . . . . . . . . . . . . # # . . . . . . . . . . . . . . . \n",
        ". . . . . . . . . . . . . # # . . . . . . . . . . . . . . .\n",
        ". . . . . . . . . . . . . . . . . . . . . . . . . . . . . .\n",
        "\n",
        "'''"
      ],
      "execution_count": 0,
      "outputs": []
    },
    {
      "cell_type": "code",
      "metadata": {
        "id": "BxvRi1cFPb9C",
        "colab_type": "code",
        "colab": {}
      },
      "source": [
        "grid = SquareGrid(30, 15)\n",
        "grid.get_map(input_map.translate({ ord(c):None for c in ' \\n\\t\\r' }))"
      ],
      "execution_count": 0,
      "outputs": []
    },
    {
      "cell_type": "code",
      "metadata": {
        "id": "ilvAHZp-Pb9G",
        "colab_type": "code",
        "colab": {}
      },
      "source": [
        "start_i=0\n",
        "start_j=0\n",
        "goal_i=10\n",
        "goal_j=17\n",
        "\n",
        "%time goal, CLOSED = search(grid, start_i, start_j, goal_i, goal_j)"
      ],
      "execution_count": 0,
      "outputs": []
    },
    {
      "cell_type": "code",
      "metadata": {
        "id": "YPeJXOnjPb9K",
        "colab_type": "code",
        "colab": {}
      },
      "source": [
        "#some valuable info\n",
        "print(\"Path's length (largest g-value in case path NOT found):\", goal.g)\n",
        "print(\"Number of steps:\", len(CLOSED))"
      ],
      "execution_count": 0,
      "outputs": []
    },
    {
      "cell_type": "code",
      "metadata": {
        "id": "z4dURn1yPb9O",
        "colab_type": "code",
        "colab": {}
      },
      "source": [
        "def make_path(goal):\n",
        "    current = goal\n",
        "    path = []\n",
        "    while current.parent:\n",
        "        path.append((current.i, current.j))\n",
        "        current = current.parent;\n",
        "    path.append((current.i, current.j))\n",
        "    return path[::-1]\n",
        "\n",
        "def print_path(grid, path):\n",
        "    for i in range(grid.height):\n",
        "        for j in range(grid.width):\n",
        "            if (i, j) in path:\n",
        "                print(\"*\", \"\", end='')\n",
        "            else:\n",
        "                print(grid.cells[i][j], \"\", end='')\n",
        "        print(\"\\n\", end='')\n"
      ],
      "execution_count": 0,
      "outputs": []
    },
    {
      "cell_type": "code",
      "metadata": {
        "id": "luWa2fq-Pb9R",
        "colab_type": "code",
        "colab": {}
      },
      "source": [
        "path = make_path(goal)\n",
        "print(\"Found path:\", *path, \"\\n\")\n",
        "\n",
        "print_path(grid, path)"
      ],
      "execution_count": 0,
      "outputs": []
    },
    {
      "cell_type": "markdown",
      "metadata": {
        "id": "vqj1MFP5Pb9W",
        "colab_type": "text"
      },
      "source": [
        "__Bigger maps__\n",
        "\n",
        "To feel the difference between using various heuristics, heuristic weights, data structures used for OPEN/CLOSED a bigger map is needed."
      ]
    },
    {
      "cell_type": "code",
      "metadata": {
        "id": "vq_DU8wkPb9Z",
        "colab_type": "code",
        "colab": {}
      },
      "source": [
        "with open('./maps/1.txt', 'r') as file:\n",
        "    big_map = file.read()\n",
        "    \n",
        "b_grid = SquareGrid(100, 100) #make sure the dimensions match the drawn map\n",
        "b_grid.get_map(big_map.translate({ ord(c): None for c in ' \\n\\t\\r' })) #remove all whitespaces, tabs etc. "
      ],
      "execution_count": 0,
      "outputs": []
    },
    {
      "cell_type": "code",
      "metadata": {
        "id": "NI-NMuW-Pb9c",
        "colab_type": "code",
        "colab": {}
      },
      "source": [
        "start_i=10\n",
        "start_j=0\n",
        "goal_i=88\n",
        "goal_j=99\n",
        "\n",
        "%time goal, CLOSED = search(b_grid, start_i, start_j, goal_i, goal_j)\n",
        "\n",
        "print(\"Path's length (largest g-value in case path NOT found):\", goal.g)\n",
        "print(\"Number of steps:\", len(CLOSED))"
      ],
      "execution_count": 0,
      "outputs": []
    },
    {
      "cell_type": "code",
      "metadata": {
        "id": "cb3xT4QhPb9f",
        "colab_type": "code",
        "colab": {}
      },
      "source": [
        "%time goal, CLOSED = search(b_grid, start_i, start_j, goal_i, goal_j, heuristic_weight=5)\n",
        "\n",
        "print(\"Path's length (largest g-value in case path NOT found):\", goal.g)\n",
        "print(\"Number of steps:\", len(CLOSED))"
      ],
      "execution_count": 0,
      "outputs": []
    },
    {
      "cell_type": "markdown",
      "metadata": {
        "id": "06iWtIqhPb9j",
        "colab_type": "text"
      },
      "source": [
        "### TODO\n",
        "\n",
        "1. Look for '!!!TODO!!!' comments and follow them\n",
        "2. Provide a report (pdf) on your experience on evaluation of A* with different heuristics and heuristics weights on a large map.\n",
        "\n",
        "Requirments for A* evaluation:\n",
        "- you should use (e.g. create) your own map\n",
        "- map should be unique (no maps repetition across students)\n",
        "- map size: 256 x 256 (min.)\n",
        "- percent of blocked cells: ~20% (e.g. randomly blocked cells) \n",
        "- number of tasks: 50 (min) - 100 (can be larger)\n",
        "- task generation strategy: any (but you should be able to describe it in a proper way), e.g. random generation of start-goal pairs\n",
        "- tasks should be unique (no tasks repetition across students)\n",
        "- At least TWO tests should be carried out:\n",
        "-- testing (at least two) different heuristics (e.g. Euclidean vs Diagonal)\n",
        "-- testing (at least three) different weights (e.g. Diagonal heuristic with w=1.1, 1.5, 3)\n",
        "-- more tests are welcome\n",
        "- in each test the following indicators should be measured:\n",
        "-- number of steps\n",
        "-- path lengths (common sense check: path lenghts should be the same for test1 and should be different for test 2)\n",
        "- Evaluation results should be presented as plots and (optionally) tables\n",
        "\n",
        "\n"
      ]
    },
    {
      "cell_type": "code",
      "metadata": {
        "id": "yYS1gSjuPb9j",
        "colab_type": "code",
        "colab": {}
      },
      "source": [
        ""
      ],
      "execution_count": 0,
      "outputs": []
    }
  ]
}